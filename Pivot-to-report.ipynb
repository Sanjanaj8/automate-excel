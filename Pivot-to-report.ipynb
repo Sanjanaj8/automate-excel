{
 "cells": [
  {
   "cell_type": "markdown",
   "id": "005ed10a-d5fd-45de-a3a6-92ac9e9c688e",
   "metadata": {},
   "source": [
    "# Set up"
   ]
  },
  {
   "cell_type": "code",
   "execution_count": 1,
   "id": "28f4436c-7164-42e1-bf21-1316ecc2cf47",
   "metadata": {},
   "outputs": [],
   "source": [
    "import pandas as pd"
   ]
  },
  {
   "cell_type": "code",
   "execution_count": 59,
   "id": "e06cb280-d090-44a7-8979-ef8611a50be6",
   "metadata": {},
   "outputs": [],
   "source": [
    "from openpyxl import load_workbook\n",
    "from openpyxl.chart import (BarChart, PieChart, Reference)\n",
    "from openpyxl.utils import get_column_letter\n",
    "from openpyxl.styles import Font\n",
    "import os\n",
    "import sys"
   ]
  },
  {
   "cell_type": "markdown",
   "id": "14842864-a801-40d7-a849-464ece11ff7a",
   "metadata": {
    "jp-MarkdownHeadingCollapsed": true,
    "tags": []
   },
   "source": [
    "# Load the Excel File"
   ]
  },
  {
   "cell_type": "code",
   "execution_count": 2,
   "id": "d4a206ca-efb1-40de-a5c2-f3b84ef6edbf",
   "metadata": {},
   "outputs": [
    {
     "data": {
      "text/html": [
       "<div>\n",
       "<style scoped>\n",
       "    .dataframe tbody tr th:only-of-type {\n",
       "        vertical-align: middle;\n",
       "    }\n",
       "\n",
       "    .dataframe tbody tr th {\n",
       "        vertical-align: top;\n",
       "    }\n",
       "\n",
       "    .dataframe thead th {\n",
       "        text-align: right;\n",
       "    }\n",
       "</style>\n",
       "<table border=\"1\" class=\"dataframe\">\n",
       "  <thead>\n",
       "    <tr style=\"text-align: right;\">\n",
       "      <th></th>\n",
       "      <th>Row_ID</th>\n",
       "      <th>Order_ID</th>\n",
       "      <th>Order_Date</th>\n",
       "      <th>Ship_Date</th>\n",
       "      <th>Ship_Mode</th>\n",
       "      <th>Customer_ID</th>\n",
       "      <th>Customer_Name</th>\n",
       "      <th>Segment</th>\n",
       "      <th>Country</th>\n",
       "      <th>City</th>\n",
       "      <th>State</th>\n",
       "      <th>Postal_Code</th>\n",
       "      <th>Region</th>\n",
       "      <th>Product_ID</th>\n",
       "      <th>Category</th>\n",
       "      <th>Sub_Category</th>\n",
       "      <th>Product_Name</th>\n",
       "      <th>Sales</th>\n",
       "    </tr>\n",
       "  </thead>\n",
       "  <tbody>\n",
       "    <tr>\n",
       "      <th>0</th>\n",
       "      <td>1</td>\n",
       "      <td>CA-2017-152156</td>\n",
       "      <td>8/11/2017</td>\n",
       "      <td>11/11/2017</td>\n",
       "      <td>Second Class</td>\n",
       "      <td>CG-12520</td>\n",
       "      <td>Claire Gute</td>\n",
       "      <td>Consumer</td>\n",
       "      <td>United States</td>\n",
       "      <td>Henderson</td>\n",
       "      <td>Kentucky</td>\n",
       "      <td>42420.0</td>\n",
       "      <td>South</td>\n",
       "      <td>FUR-BO-10001798</td>\n",
       "      <td>Furniture</td>\n",
       "      <td>Bookcases</td>\n",
       "      <td>Bush Somerset Collection Bookcase</td>\n",
       "      <td>261.9600</td>\n",
       "    </tr>\n",
       "    <tr>\n",
       "      <th>1</th>\n",
       "      <td>2</td>\n",
       "      <td>CA-2017-152156</td>\n",
       "      <td>8/11/2017</td>\n",
       "      <td>11/11/2017</td>\n",
       "      <td>Second Class</td>\n",
       "      <td>CG-12520</td>\n",
       "      <td>Claire Gute</td>\n",
       "      <td>Consumer</td>\n",
       "      <td>United States</td>\n",
       "      <td>Henderson</td>\n",
       "      <td>Kentucky</td>\n",
       "      <td>42420.0</td>\n",
       "      <td>South</td>\n",
       "      <td>FUR-CH-10000454</td>\n",
       "      <td>Furniture</td>\n",
       "      <td>Chairs</td>\n",
       "      <td>Hon Deluxe Fabric Upholstered Stacking Chairs,...</td>\n",
       "      <td>731.9400</td>\n",
       "    </tr>\n",
       "    <tr>\n",
       "      <th>2</th>\n",
       "      <td>3</td>\n",
       "      <td>CA-2017-138688</td>\n",
       "      <td>12/6/2017</td>\n",
       "      <td>16/06/2017</td>\n",
       "      <td>Second Class</td>\n",
       "      <td>DV-13045</td>\n",
       "      <td>Darrin Van Huff</td>\n",
       "      <td>Corporate</td>\n",
       "      <td>United States</td>\n",
       "      <td>Los Angeles</td>\n",
       "      <td>California</td>\n",
       "      <td>90036.0</td>\n",
       "      <td>West</td>\n",
       "      <td>OFF-LA-10000240</td>\n",
       "      <td>Office Supplies</td>\n",
       "      <td>Labels</td>\n",
       "      <td>Self-Adhesive Address Labels for Typewriters b...</td>\n",
       "      <td>14.6200</td>\n",
       "    </tr>\n",
       "    <tr>\n",
       "      <th>3</th>\n",
       "      <td>4</td>\n",
       "      <td>US-2016-108966</td>\n",
       "      <td>11/10/2016</td>\n",
       "      <td>18/10/2016</td>\n",
       "      <td>Standard Class</td>\n",
       "      <td>SO-20335</td>\n",
       "      <td>Sean O Donnel</td>\n",
       "      <td>Consumer</td>\n",
       "      <td>United States</td>\n",
       "      <td>Fort Lauderdale</td>\n",
       "      <td>Florida</td>\n",
       "      <td>33311.0</td>\n",
       "      <td>South</td>\n",
       "      <td>FUR-TA-10000577</td>\n",
       "      <td>Furniture</td>\n",
       "      <td>Tables</td>\n",
       "      <td>Bretford CR4500 Series Slim Rectangular Table</td>\n",
       "      <td>957.5775</td>\n",
       "    </tr>\n",
       "    <tr>\n",
       "      <th>4</th>\n",
       "      <td>5</td>\n",
       "      <td>US-2016-108966</td>\n",
       "      <td>11/10/2016</td>\n",
       "      <td>18/10/2016</td>\n",
       "      <td>Standard Class</td>\n",
       "      <td>SO-20335</td>\n",
       "      <td>Sean O Donnel</td>\n",
       "      <td>Consumer</td>\n",
       "      <td>United States</td>\n",
       "      <td>Fort Lauderdale</td>\n",
       "      <td>Florida</td>\n",
       "      <td>33311.0</td>\n",
       "      <td>South</td>\n",
       "      <td>OFF-ST-10000760</td>\n",
       "      <td>Office Supplies</td>\n",
       "      <td>Storage</td>\n",
       "      <td>Eldon Fold N Roll Cart System</td>\n",
       "      <td>22.3680</td>\n",
       "    </tr>\n",
       "  </tbody>\n",
       "</table>\n",
       "</div>"
      ],
      "text/plain": [
       "   Row_ID        Order_ID  Order_Date   Ship_Date       Ship_Mode Customer_ID  \\\n",
       "0       1  CA-2017-152156   8/11/2017  11/11/2017    Second Class    CG-12520   \n",
       "1       2  CA-2017-152156   8/11/2017  11/11/2017    Second Class    CG-12520   \n",
       "2       3  CA-2017-138688   12/6/2017  16/06/2017    Second Class    DV-13045   \n",
       "3       4  US-2016-108966  11/10/2016  18/10/2016  Standard Class    SO-20335   \n",
       "4       5  US-2016-108966  11/10/2016  18/10/2016  Standard Class    SO-20335   \n",
       "\n",
       "     Customer_Name    Segment        Country             City       State  \\\n",
       "0      Claire Gute   Consumer  United States        Henderson    Kentucky   \n",
       "1      Claire Gute   Consumer  United States        Henderson    Kentucky   \n",
       "2  Darrin Van Huff  Corporate  United States      Los Angeles  California   \n",
       "3    Sean O Donnel   Consumer  United States  Fort Lauderdale     Florida   \n",
       "4    Sean O Donnel   Consumer  United States  Fort Lauderdale     Florida   \n",
       "\n",
       "   Postal_Code Region       Product_ID         Category Sub_Category  \\\n",
       "0      42420.0  South  FUR-BO-10001798        Furniture    Bookcases   \n",
       "1      42420.0  South  FUR-CH-10000454        Furniture       Chairs   \n",
       "2      90036.0   West  OFF-LA-10000240  Office Supplies       Labels   \n",
       "3      33311.0  South  FUR-TA-10000577        Furniture       Tables   \n",
       "4      33311.0  South  OFF-ST-10000760  Office Supplies      Storage   \n",
       "\n",
       "                                        Product_Name     Sales  \n",
       "0                  Bush Somerset Collection Bookcase  261.9600  \n",
       "1  Hon Deluxe Fabric Upholstered Stacking Chairs,...  731.9400  \n",
       "2  Self-Adhesive Address Labels for Typewriters b...   14.6200  \n",
       "3      Bretford CR4500 Series Slim Rectangular Table  957.5775  \n",
       "4                      Eldon Fold N Roll Cart System   22.3680  "
      ]
     },
     "execution_count": 2,
     "metadata": {},
     "output_type": "execute_result"
    }
   ],
   "source": [
    "df = pd.read_csv(r\"C:\\Users\\admin\\Desktop\\AI ML\\Projects\\Automate Excel\\superstore_final_dataset (1).csv\",\n",
    "                 encoding='ISO-8859–1')\n",
    "df.head()"
   ]
  },
  {
   "cell_type": "code",
   "execution_count": 3,
   "id": "a01df15b-9d89-41cd-bce1-27863275f8fe",
   "metadata": {},
   "outputs": [
    {
     "data": {
      "text/plain": [
       "(9800, 18)"
      ]
     },
     "execution_count": 3,
     "metadata": {},
     "output_type": "execute_result"
    }
   ],
   "source": [
    "# Shape of the dataframe\n",
    "df.shape"
   ]
  },
  {
   "cell_type": "markdown",
   "id": "80d7ef1f-1470-4380-811c-0ad0e034c6fa",
   "metadata": {
    "jp-MarkdownHeadingCollapsed": true,
    "tags": []
   },
   "source": [
    "# Creating a pivot table\n",
    "\n",
    "- A pivot table in Excel is a powerful feature that allows users to summarize and analyze large amounts of data quickly and efficiently. It allows you to rearrange and manipulate data from a table or range of cells to create a summary report with just a few clicks.\n",
    "\n",
    "- By using a pivot table, you can easily organize and summarize your data in various ways, such as by adding and rearranging columns and rows, applying filters, calculating totals and averages, and even creating charts and graphs to visualize the data.\n"
   ]
  },
  {
   "cell_type": "code",
   "execution_count": 4,
   "id": "46e3f90a-03d2-44cc-9937-05fd661356d3",
   "metadata": {},
   "outputs": [
    {
     "data": {
      "text/html": [
       "<div>\n",
       "<style scoped>\n",
       "    .dataframe tbody tr th:only-of-type {\n",
       "        vertical-align: middle;\n",
       "    }\n",
       "\n",
       "    .dataframe tbody tr th {\n",
       "        vertical-align: top;\n",
       "    }\n",
       "\n",
       "    .dataframe thead th {\n",
       "        text-align: right;\n",
       "    }\n",
       "</style>\n",
       "<table border=\"1\" class=\"dataframe\">\n",
       "  <thead>\n",
       "    <tr style=\"text-align: right;\">\n",
       "      <th></th>\n",
       "      <th>Sub_Category</th>\n",
       "      <th>Segment</th>\n",
       "      <th>Sales</th>\n",
       "    </tr>\n",
       "  </thead>\n",
       "  <tbody>\n",
       "    <tr>\n",
       "      <th>0</th>\n",
       "      <td>Bookcases</td>\n",
       "      <td>Consumer</td>\n",
       "      <td>261.9600</td>\n",
       "    </tr>\n",
       "    <tr>\n",
       "      <th>1</th>\n",
       "      <td>Chairs</td>\n",
       "      <td>Consumer</td>\n",
       "      <td>731.9400</td>\n",
       "    </tr>\n",
       "    <tr>\n",
       "      <th>2</th>\n",
       "      <td>Labels</td>\n",
       "      <td>Corporate</td>\n",
       "      <td>14.6200</td>\n",
       "    </tr>\n",
       "    <tr>\n",
       "      <th>3</th>\n",
       "      <td>Tables</td>\n",
       "      <td>Consumer</td>\n",
       "      <td>957.5775</td>\n",
       "    </tr>\n",
       "    <tr>\n",
       "      <th>4</th>\n",
       "      <td>Storage</td>\n",
       "      <td>Consumer</td>\n",
       "      <td>22.3680</td>\n",
       "    </tr>\n",
       "    <tr>\n",
       "      <th>...</th>\n",
       "      <td>...</td>\n",
       "      <td>...</td>\n",
       "      <td>...</td>\n",
       "    </tr>\n",
       "    <tr>\n",
       "      <th>9795</th>\n",
       "      <td>Binders</td>\n",
       "      <td>Corporate</td>\n",
       "      <td>3.7980</td>\n",
       "    </tr>\n",
       "    <tr>\n",
       "      <th>9796</th>\n",
       "      <td>Art</td>\n",
       "      <td>Corporate</td>\n",
       "      <td>10.3680</td>\n",
       "    </tr>\n",
       "    <tr>\n",
       "      <th>9797</th>\n",
       "      <td>Phones</td>\n",
       "      <td>Corporate</td>\n",
       "      <td>235.1880</td>\n",
       "    </tr>\n",
       "    <tr>\n",
       "      <th>9798</th>\n",
       "      <td>Phones</td>\n",
       "      <td>Corporate</td>\n",
       "      <td>26.3760</td>\n",
       "    </tr>\n",
       "    <tr>\n",
       "      <th>9799</th>\n",
       "      <td>Accessories</td>\n",
       "      <td>Corporate</td>\n",
       "      <td>10.3840</td>\n",
       "    </tr>\n",
       "  </tbody>\n",
       "</table>\n",
       "<p>9800 rows × 3 columns</p>\n",
       "</div>"
      ],
      "text/plain": [
       "     Sub_Category    Segment     Sales\n",
       "0       Bookcases   Consumer  261.9600\n",
       "1          Chairs   Consumer  731.9400\n",
       "2          Labels  Corporate   14.6200\n",
       "3          Tables   Consumer  957.5775\n",
       "4         Storage   Consumer   22.3680\n",
       "...           ...        ...       ...\n",
       "9795      Binders  Corporate    3.7980\n",
       "9796          Art  Corporate   10.3680\n",
       "9797       Phones  Corporate  235.1880\n",
       "9798       Phones  Corporate   26.3760\n",
       "9799  Accessories  Corporate   10.3840\n",
       "\n",
       "[9800 rows x 3 columns]"
      ]
     },
     "execution_count": 4,
     "metadata": {},
     "output_type": "execute_result"
    }
   ],
   "source": [
    "sub_df = df[['Sub_Category','Segment','Sales']]\n",
    "sub_df"
   ]
  },
  {
   "cell_type": "code",
   "execution_count": 5,
   "id": "c8944548-f668-4904-ab84-5e90cf6f9abf",
   "metadata": {},
   "outputs": [],
   "source": [
    "pivot_table = sub_df.pivot_table(index = 'Segment', columns = 'Sub_Category', values = 'Sales', aggfunc = 'sum').round(0)"
   ]
  },
  {
   "cell_type": "code",
   "execution_count": 6,
   "id": "206fcf72-a593-4274-9f4c-e7bcb40a1584",
   "metadata": {},
   "outputs": [
    {
     "data": {
      "text/html": [
       "<div>\n",
       "<style scoped>\n",
       "    .dataframe tbody tr th:only-of-type {\n",
       "        vertical-align: middle;\n",
       "    }\n",
       "\n",
       "    .dataframe tbody tr th {\n",
       "        vertical-align: top;\n",
       "    }\n",
       "\n",
       "    .dataframe thead th {\n",
       "        text-align: right;\n",
       "    }\n",
       "</style>\n",
       "<table border=\"1\" class=\"dataframe\">\n",
       "  <thead>\n",
       "    <tr style=\"text-align: right;\">\n",
       "      <th>Sub_Category</th>\n",
       "      <th>Accessories</th>\n",
       "      <th>Appliances</th>\n",
       "      <th>Art</th>\n",
       "      <th>Binders</th>\n",
       "      <th>Bookcases</th>\n",
       "      <th>Chairs</th>\n",
       "      <th>Copiers</th>\n",
       "      <th>Envelopes</th>\n",
       "      <th>Fasteners</th>\n",
       "      <th>Furnishings</th>\n",
       "      <th>Labels</th>\n",
       "      <th>Machines</th>\n",
       "      <th>Paper</th>\n",
       "      <th>Phones</th>\n",
       "      <th>Storage</th>\n",
       "      <th>Supplies</th>\n",
       "      <th>Tables</th>\n",
       "    </tr>\n",
       "    <tr>\n",
       "      <th>Segment</th>\n",
       "      <th></th>\n",
       "      <th></th>\n",
       "      <th></th>\n",
       "      <th></th>\n",
       "      <th></th>\n",
       "      <th></th>\n",
       "      <th></th>\n",
       "      <th></th>\n",
       "      <th></th>\n",
       "      <th></th>\n",
       "      <th></th>\n",
       "      <th></th>\n",
       "      <th></th>\n",
       "      <th></th>\n",
       "      <th></th>\n",
       "      <th></th>\n",
       "      <th></th>\n",
       "    </tr>\n",
       "  </thead>\n",
       "  <tbody>\n",
       "    <tr>\n",
       "      <th>Consumer</th>\n",
       "      <td>85699.0</td>\n",
       "      <td>52367.0</td>\n",
       "      <td>14062.0</td>\n",
       "      <td>117092.0</td>\n",
       "      <td>67949.0</td>\n",
       "      <td>171174.0</td>\n",
       "      <td>66539.0</td>\n",
       "      <td>7632.0</td>\n",
       "      <td>1675.0</td>\n",
       "      <td>48725.0</td>\n",
       "      <td>6611.0</td>\n",
       "      <td>79543.0</td>\n",
       "      <td>35600.0</td>\n",
       "      <td>169231.0</td>\n",
       "      <td>98783.0</td>\n",
       "      <td>25531.0</td>\n",
       "      <td>99848.0</td>\n",
       "    </tr>\n",
       "    <tr>\n",
       "      <th>Corporate</th>\n",
       "      <td>46593.0</td>\n",
       "      <td>34170.0</td>\n",
       "      <td>8526.0</td>\n",
       "      <td>50007.0</td>\n",
       "      <td>34006.0</td>\n",
       "      <td>95203.0</td>\n",
       "      <td>46829.0</td>\n",
       "      <td>5798.0</td>\n",
       "      <td>783.0</td>\n",
       "      <td>23979.0</td>\n",
       "      <td>4062.0</td>\n",
       "      <td>60277.0</td>\n",
       "      <td>23409.0</td>\n",
       "      <td>90343.0</td>\n",
       "      <td>77975.0</td>\n",
       "      <td>19400.0</td>\n",
       "      <td>67133.0</td>\n",
       "    </tr>\n",
       "    <tr>\n",
       "      <th>Home Office</th>\n",
       "      <td>31895.0</td>\n",
       "      <td>18081.0</td>\n",
       "      <td>4117.0</td>\n",
       "      <td>32930.0</td>\n",
       "      <td>11858.0</td>\n",
       "      <td>56445.0</td>\n",
       "      <td>32880.0</td>\n",
       "      <td>2699.0</td>\n",
       "      <td>544.0</td>\n",
       "      <td>16508.0</td>\n",
       "      <td>1675.0</td>\n",
       "      <td>49419.0</td>\n",
       "      <td>17820.0</td>\n",
       "      <td>68209.0</td>\n",
       "      <td>42585.0</td>\n",
       "      <td>1489.0</td>\n",
       "      <td>35829.0</td>\n",
       "    </tr>\n",
       "  </tbody>\n",
       "</table>\n",
       "</div>"
      ],
      "text/plain": [
       "Sub_Category  Accessories  Appliances      Art   Binders  Bookcases    Chairs  \\\n",
       "Segment                                                                         \n",
       "Consumer          85699.0     52367.0  14062.0  117092.0    67949.0  171174.0   \n",
       "Corporate         46593.0     34170.0   8526.0   50007.0    34006.0   95203.0   \n",
       "Home Office       31895.0     18081.0   4117.0   32930.0    11858.0   56445.0   \n",
       "\n",
       "Sub_Category  Copiers  Envelopes  Fasteners  Furnishings  Labels  Machines  \\\n",
       "Segment                                                                      \n",
       "Consumer      66539.0     7632.0     1675.0      48725.0  6611.0   79543.0   \n",
       "Corporate     46829.0     5798.0      783.0      23979.0  4062.0   60277.0   \n",
       "Home Office   32880.0     2699.0      544.0      16508.0  1675.0   49419.0   \n",
       "\n",
       "Sub_Category    Paper    Phones  Storage  Supplies   Tables  \n",
       "Segment                                                      \n",
       "Consumer      35600.0  169231.0  98783.0   25531.0  99848.0  \n",
       "Corporate     23409.0   90343.0  77975.0   19400.0  67133.0  \n",
       "Home Office   17820.0   68209.0  42585.0    1489.0  35829.0  "
      ]
     },
     "execution_count": 6,
     "metadata": {},
     "output_type": "execute_result"
    }
   ],
   "source": [
    "pivot_table"
   ]
  },
  {
   "cell_type": "code",
   "execution_count": 7,
   "id": "03c5194a-8617-4eb9-abab-3627ec80a0ce",
   "metadata": {},
   "outputs": [
    {
     "name": "stdout",
     "output_type": "stream",
     "text": [
      "Shape of the pivot table is: (3, 17)\n"
     ]
    }
   ],
   "source": [
    "print(\"Shape of the pivot table is: \"+ str(pivot_table.shape))"
   ]
  },
  {
   "cell_type": "code",
   "execution_count": 8,
   "id": "890bb0e9-a7d0-4b2d-9077-ee1a2cba874a",
   "metadata": {},
   "outputs": [
    {
     "name": "stderr",
     "output_type": "stream",
     "text": [
      "C:\\Users\\admin\\anaconda3\\lib\\site-packages\\pandas\\util\\_decorators.py:211: FutureWarning: the 'encoding' keyword is deprecated and will be removed in a future version. Please take steps to stop the use of 'encoding'\n",
      "  return func(*args, **kwargs)\n"
     ]
    }
   ],
   "source": [
    "pivot_table.to_excel('pivot_table.xlsx', encoding = 'UTF-8', startrow=5)"
   ]
  },
  {
   "cell_type": "markdown",
   "id": "b6eadfaf-cb95-46fb-b0aa-032c5e70a7be",
   "metadata": {
    "jp-MarkdownHeadingCollapsed": true,
    "tags": []
   },
   "source": [
    "# WorkBook Set Up"
   ]
  },
  {
   "cell_type": "code",
   "execution_count": 40,
   "id": "2de3e1a5-1a10-4ad5-95dc-486db15dc015",
   "metadata": {},
   "outputs": [],
   "source": [
    "wb = load_workbook('pivot_table.xlsx')"
   ]
  },
  {
   "cell_type": "code",
   "execution_count": 12,
   "id": "36083424-5e14-437a-af80-bcbd7c1ebda7",
   "metadata": {},
   "outputs": [],
   "source": [
    "sheet = wb['Sheet1']"
   ]
  },
  {
   "cell_type": "code",
   "execution_count": 13,
   "id": "893e54a9-570c-4d88-b510-e7a37a5dc15a",
   "metadata": {},
   "outputs": [],
   "source": [
    "max_column = wb.active.max_column\n",
    "min_column = wb.active.min_column\n",
    "min_row = wb.active.min_row\n",
    "max_row = wb.active.max_row"
   ]
  },
  {
   "cell_type": "code",
   "execution_count": 14,
   "id": "6b654987-6b54-4cd7-a357-e51057b56d01",
   "metadata": {},
   "outputs": [
    {
     "name": "stdout",
     "output_type": "stream",
     "text": [
      "18\n",
      "1\n",
      "9\n",
      "6\n"
     ]
    }
   ],
   "source": [
    "print(max_column)\n",
    "print(min_column)\n",
    "print(max_row)\n",
    "print(min_row)"
   ]
  },
  {
   "cell_type": "markdown",
   "id": "a8d6063f-4d5f-47d5-a2b8-d1e59b1da65f",
   "metadata": {
    "tags": []
   },
   "source": [
    "# Creating a BarChart"
   ]
  },
  {
   "cell_type": "code",
   "execution_count": 15,
   "id": "368328f3-211b-44bf-9f93-cb1fb65a164d",
   "metadata": {},
   "outputs": [],
   "source": [
    "barchart = BarChart()"
   ]
  },
  {
   "cell_type": "code",
   "execution_count": 16,
   "id": "08fb0d13-927e-4e50-9937-dbcaa6dc21d5",
   "metadata": {},
   "outputs": [],
   "source": [
    "data = Reference(sheet, min_col = min_column + 1, # A is the min value but for data B is the min value\n",
    "                 max_col = max_column,\n",
    "                 min_row = min_row,\n",
    "                 max_row = max_row)\n",
    "\n",
    "# headers are included in both data and categories"
   ]
  },
  {
   "cell_type": "code",
   "execution_count": 17,
   "id": "5c33d8bd-3422-4e07-ad0e-8b0972cd81f6",
   "metadata": {},
   "outputs": [],
   "source": [
    "categories = Reference(sheet, min_col = min_column, \n",
    "                 max_col = min_column,\n",
    "                 min_row = min_row+1,\n",
    "                 max_row = max_row)\n",
    "\n",
    "# for categories, the min and max columns are the same "
   ]
  },
  {
   "attachments": {
    "1666c73f-7649-48c6-9e0a-3b37205a0282.png": {
     "image/png": "[encoded data removed]"
    }
   },
   "cell_type": "markdown",
   "id": "a0e07c62-74b1-453c-b428-5941ff696987",
   "metadata": {},
   "source": [
    "![image.png](attachment:1666c73f-7649-48c6-9e0a-3b37205a0282.png)"
   ]
  },
  {
   "cell_type": "markdown",
   "id": "c788e5d3-001a-47f4-9c7e-0241a3bbb7d5",
   "metadata": {},
   "source": [
    "Blue -> Indicates Categories\n",
    "<br> Purple -> Indicates Data"
   ]
  },
  {
   "cell_type": "code",
   "execution_count": 18,
   "id": "69b3e663-ec6e-4617-8685-46c8bd313f3f",
   "metadata": {},
   "outputs": [],
   "source": [
    "barchart.add_data(data, titles_from_data = True)\n",
    "barchart.title = \"Sales by Sub Categories\"\n",
    "\n",
    "barchart.set_categories(categories)\n",
    "sheet.add_chart(barchart, \"D14\")\n",
    "barchart.style = 5\n",
    "wb.save(\"barchart.xlsx\")"
   ]
  },
  {
   "cell_type": "markdown",
   "id": "a5e93ddb-33f8-4ebb-a853-d926f05bc2ba",
   "metadata": {
    "jp-MarkdownHeadingCollapsed": true,
    "tags": []
   },
   "source": [
    "# Creating Excel Formula"
   ]
  },
  {
   "cell_type": "code",
   "execution_count": 61,
   "id": "205d2af2-4217-4361-a33a-03ec098a24c9",
   "metadata": {},
   "outputs": [
    {
     "data": {
      "text/plain": [
       "\"\\nsheet['B5'] = '=SUM(B2:B4)' \\nfunc to be carried out\\n\\nsheet['B5'].style = 'Currency'   \\ncell is in currency format\\n\\nf-string is used to format the strings.Helps to make the interpolation easier.\\nInterpolation is a technique mostly used to impute missing values in the data frame or series while preprocessing data.\\n\\n\""
      ]
     },
     "execution_count": 61,
     "metadata": {},
     "output_type": "execute_result"
    }
   ],
   "source": [
    "'''\n",
    "sheet['B5'] = '=SUM(B2:B4)' \n",
    "func to be carried out\n",
    "\n",
    "sheet['B5'].style = 'Currency'   \n",
    "cell is in currency format\n",
    "\n",
    "f-string is used to format the strings.Helps to make the interpolation easier.\n",
    "Interpolation is a technique mostly used to impute missing values in the data frame or series while preprocessing data.\n",
    "\n",
    "'''"
   ]
  },
  {
   "cell_type": "code",
   "execution_count": 62,
   "id": "4a6873cb-47fb-456a-8ec8-7bf26dab46b1",
   "metadata": {},
   "outputs": [],
   "source": [
    "for i in range(min_column+1, max_column+1):\n",
    "    # to get the column letter for column numbers\n",
    "    letter = get_column_letter(i) \n",
    "    \n",
    "    # max_row+1 :- to locate the row after the max_row, where the sum of sales will be\n",
    "    # min_row+1 :- to ignore the headers at row 1 and to get the values required\n",
    "    \n",
    "    # run this to make sure everything is working smoothly : print(f'=SUM({letter}{min_row+1}:{letter}{max_row})')\n",
    "    sheet[f'{letter}{max_row+1}'] = f'=SUM({letter}{min_row+1}:{letter}{max_row})'\n",
    "    sheet[f'{letter}{max_row+1}'].style = 'Currency'"
   ]
  },
  {
   "cell_type": "markdown",
   "id": "9effcf4d-f3e5-48c3-9bee-bad8f63bf24b",
   "metadata": {
    "jp-MarkdownHeadingCollapsed": true,
    "tags": []
   },
   "source": [
    "# Cell Formating"
   ]
  },
  {
   "cell_type": "code",
   "execution_count": 23,
   "id": "e373ecea-d5a9-41fd-bfe5-fdd2b0068141",
   "metadata": {},
   "outputs": [],
   "source": [
    "sheet['A1'] = 'Sales Report'\n",
    "sheet['A2'] = 'January'\n",
    "sheet['A1'].font = Font(\"Times New Roman\",bold = True, size = 20)\n",
    "sheet['A2'].font = Font(\"Arial\", bold = True, size = 10)"
   ]
  },
  {
   "cell_type": "code",
   "execution_count": 24,
   "id": "1b4de71b-3ef8-4f7f-b51e-edefe4248c06",
   "metadata": {},
   "outputs": [],
   "source": [
    "wb.save(\"January Report.xlsx\")"
   ]
  },
  {
   "cell_type": "markdown",
   "id": "4aefd9b0-28c1-4e65-b18e-ebd10f7428bc",
   "metadata": {
    "jp-MarkdownHeadingCollapsed": true,
    "tags": []
   },
   "source": [
    "# To generate Monthly Reports "
   ]
  },
  {
   "cell_type": "code",
   "execution_count": 42,
   "id": "66f1220a-d0d1-43f3-8e65-bd7b9227f1d5",
   "metadata": {},
   "outputs": [
    {
     "name": "stdin",
     "output_type": "stream",
     "text": [
      "Introduce Month:  march\n"
     ]
    }
   ],
   "source": [
    "month = input('Introduce Month: ')"
   ]
  },
  {
   "cell_type": "code",
   "execution_count": 43,
   "id": "af8b0034-00de-40bf-9a28-fd222022a8a9",
   "metadata": {},
   "outputs": [],
   "source": [
    "sheet['A1'] = 'Sales Report'\n",
    "sheet['A2'] = month\n",
    "sheet['A1'].font = Font(\"Times New Roman\",bold = True, size = 20)\n",
    "sheet['A2'].font = Font(\"Arial\", bold = True, size = 10)"
   ]
  },
  {
   "cell_type": "code",
   "execution_count": 45,
   "id": "ec7c565f-22f0-4bb3-8eda-08eb1dbd9e1d",
   "metadata": {},
   "outputs": [],
   "source": [
    "wb.save(f'{month} report.xlsx')"
   ]
  },
  {
   "cell_type": "markdown",
   "id": "c2eedc92-7d3b-44cc-bce1-899921490277",
   "metadata": {
    "tags": []
   },
   "source": [
    "# To Generate Excel Reports faster"
   ]
  },
  {
   "cell_type": "code",
   "execution_count": 33,
   "id": "209866ed-d98a-4599-9991-4060d00de634",
   "metadata": {},
   "outputs": [],
   "source": [
    "# to specify where the file path is located\n",
    "application_path = os.path.dirname(sys.executable)"
   ]
  },
  {
   "cell_type": "code",
   "execution_count": 34,
   "id": "72321ac9-5b21-466b-8735-900114babe7e",
   "metadata": {},
   "outputs": [],
   "source": [
    "input_path = os.path.join(application_path, \"pivot_table.xlsx\")"
   ]
  },
  {
   "cell_type": "code",
   "execution_count": 35,
   "id": "3ae9d12e-1df2-438a-b675-2f4b2f7c6fbf",
   "metadata": {},
   "outputs": [],
   "source": [
    "output_path = os.path.join(application_path,f'{month} report.xlsx') "
   ]
  },
  {
   "cell_type": "code",
   "execution_count": 38,
   "id": "0b303bcd-2dd6-421e-9416-d845ab3b795d",
   "metadata": {},
   "outputs": [],
   "source": [
    "# input and output paths are located in the same path as application path"
   ]
  },
  {
   "cell_type": "code",
   "execution_count": 46,
   "id": "e3a44590-dcc9-4287-bd74-335e29c1faf4",
   "metadata": {},
   "outputs": [],
   "source": [
    "# note to self: work on converting this to py then to exe"
   ]
  }
 ],
 "metadata": {
  "kernelspec": {
   "display_name": "Python 3 (ipykernel)",
   "language": "python",
   "name": "python3"
  },
  "language_info": {
   "codemirror_mode": {
    "name": "ipython",
    "version": 3
   },
   "file_extension": ".py",
   "mimetype": "text/x-python",
   "name": "python",
   "nbconvert_exporter": "python",
   "pygments_lexer": "ipython3",
   "version": "3.10.9"
  }
 },
 "nbformat": 4,
 "nbformat_minor": 5
}
